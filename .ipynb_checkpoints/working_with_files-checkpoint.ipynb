{
 "cells": [
  {
   "cell_type": "markdown",
   "metadata": {
    "pycharm": {
     "name": "#%%\n"
    }
   },
   "source": [
    "# Working with files in PYTHON"
   ]
  },
  {
   "cell_type": "code",
   "execution_count": 15,
   "metadata": {
    "pycharm": {
     "name": "#%%\n"
    }
   },
   "outputs": [],
   "source": [
    "with open('data.txt', 'r') as f: # takes a file and its mode as argument 'r' opens file in read mode\n",
    "    data = f.read()"
   ]
  },
  {
   "cell_type": "code",
   "execution_count": 16,
   "metadata": {
    "pycharm": {
     "name": "#%%\n"
    }
   },
   "outputs": [],
   "source": [
    "with open('data.txt', 'w') as f:\n",
    "    data = \"АБЭЛ\"\n",
    "    f.write(data)"
   ]
  },
  {
   "cell_type": "markdown",
   "metadata": {},
   "source": [
    "# Read and Write files in python"
   ]
  },
  {
   "cell_type": "code",
   "execution_count": 19,
   "metadata": {},
   "outputs": [],
   "source": [
    "file = open('bicycles.txt')\n",
    "# this can cause memory leaks"
   ]
  },
  {
   "cell_type": "code",
   "execution_count": 22,
   "metadata": {},
   "outputs": [],
   "source": [
    "# to avoid that we should use this method\n",
    "reader = open('bicycles.txt')\n",
    "try:\n",
    "    pass\n",
    "finally:\n",
    "    reader.close()"
   ]
  },
  {
   "cell_type": "code",
   "execution_count": 23,
   "metadata": {},
   "outputs": [],
   "source": [
    "file.close()"
   ]
  },
  {
   "cell_type": "code",
   "execution_count": 27,
   "metadata": {},
   "outputs": [
    {
     "data": {
      "text/plain": [
       "'\\nr = read\\nw = write\\nrb or wb = open in binary mode (read write usung byte data)\\n'"
      ]
     },
     "execution_count": 27,
     "metadata": {},
     "output_type": "execute_result"
    }
   ],
   "source": [
    "# orr this method\n",
    "with open('bicycles.txt', 'r') as reader:\n",
    "    pass\n",
    "\"\"\"\n",
    "r = read\n",
    "w = write\n",
    "rb or wb = open in binary mode (read write usung byte data)\n",
    "\"\"\""
   ]
  },
  {
   "cell_type": "markdown",
   "metadata": {},
   "source": [
    "There are three different categories of files objects:\n",
    "- Text files\n",
    "- Buffered binary files\n",
    "- Raw binary files"
   ]
  },
  {
   "cell_type": "markdown",
   "metadata": {},
   "source": [
    "## Read a file\n",
    "\n",
    "> .read(size=-1) reads the file based on the number of size bytes\n",
    "    \n",
    "> .readline(size=-1)\n",
    "    \n",
    "> .readline()"
   ]
  },
  {
   "cell_type": "code",
   "execution_count": 28,
   "metadata": {},
   "outputs": [
    {
     "name": "stdout",
     "output_type": "stream",
     "text": [
      "Sable clouds by tempest driven,\n",
      "Snowflakes whirling in the gales,\n",
      "Hark--it sounds like grim wolves howling,\n",
      "Hark--now like a child it wails!\n",
      "Creeping through the rustling straw thatch,\n",
      "Rattling on the mortared walls,\n",
      "Like some weary wanderer knocking--\n",
      "On the lowly pane it falls.\n",
      "Fearsome darkness fills the kitchen,\n",
      "Drear and lonely our retreat,\n",
      "Speak a word and break the silence,\n",
      "Dearest little Mother, sweet!\n",
      "Has the moaning of the tempest\n",
      "Closed thine eyelids wearily?\n",
      "Has the spinning wheel's soft whirring\n",
      "Hummed a cradle song to thee?\n",
      "Sweetheart of my youthful Springtime,\n",
      "Thou true-souled companion dear--\n",
      "Let us drink! Away with sadness!\n",
      "Wine will fill our hearts with cheer.\n",
      "Sing the song how free and careless\n",
      "Birds live in a distant land--\n",
      "Sing the song of maids at morning\n",
      "Meeting by the brook's clear strand!\n",
      "Sable clouds by tempest driven,\n",
      "Snowflakes whirling in the gales,\n",
      "Hark--it sounds like grim wolves howling,\n",
      "Hark--now like a child it wails!\n",
      "Sweetheart of my youthful Springtime,\n",
      "Thou true-souled companion dear,\n",
      "Let us drink! Away with sadness!\n",
      "Wine will fill our hearts with cheer!\n"
     ]
    }
   ],
   "source": [
    "with open('bicycles.txt', 'r') as reader:\n",
    "    print(reader.read())"
   ]
  },
  {
   "cell_type": "code",
   "execution_count": 29,
   "metadata": {},
   "outputs": [
    {
     "name": "stdout",
     "output_type": "stream",
     "text": [
      "Sable\n",
      " clou\n",
      "ds by\n",
      " temp\n",
      "est d\n"
     ]
    }
   ],
   "source": [
    "with open('bicycles.txt', 'r') as reader:\n",
    "    print(reader.readline(5))\n",
    "    print(reader.readline(5))\n",
    "    print(reader.readline(5))\n",
    "    print(reader.readline(5))\n",
    "    print(reader.readline(5))"
   ]
  },
  {
   "cell_type": "code",
   "execution_count": 31,
   "metadata": {
    "scrolled": true
   },
   "outputs": [
    {
     "data": {
      "text/plain": [
       "['Sable clouds by tempest driven,\\n',\n",
       " 'Snowflakes whirling in the gales,\\n',\n",
       " 'Hark--it sounds like grim wolves howling,\\n',\n",
       " 'Hark--now like a child it wails!\\n',\n",
       " 'Creeping through the rustling straw thatch,\\n',\n",
       " 'Rattling on the mortared walls,\\n',\n",
       " 'Like some weary wanderer knocking--\\n',\n",
       " 'On the lowly pane it falls.\\n',\n",
       " 'Fearsome darkness fills the kitchen,\\n',\n",
       " 'Drear and lonely our retreat,\\n',\n",
       " 'Speak a word and break the silence,\\n',\n",
       " 'Dearest little Mother, sweet!\\n',\n",
       " 'Has the moaning of the tempest\\n',\n",
       " 'Closed thine eyelids wearily?\\n',\n",
       " \"Has the spinning wheel's soft whirring\\n\",\n",
       " 'Hummed a cradle song to thee?\\n',\n",
       " 'Sweetheart of my youthful Springtime,\\n',\n",
       " 'Thou true-souled companion dear--\\n',\n",
       " 'Let us drink! Away with sadness!\\n',\n",
       " 'Wine will fill our hearts with cheer.\\n',\n",
       " 'Sing the song how free and careless\\n',\n",
       " 'Birds live in a distant land--\\n',\n",
       " 'Sing the song of maids at morning\\n',\n",
       " \"Meeting by the brook's clear strand!\\n\",\n",
       " 'Sable clouds by tempest driven,\\n',\n",
       " 'Snowflakes whirling in the gales,\\n',\n",
       " 'Hark--it sounds like grim wolves howling,\\n',\n",
       " 'Hark--now like a child it wails!\\n',\n",
       " 'Sweetheart of my youthful Springtime,\\n',\n",
       " 'Thou true-souled companion dear,\\n',\n",
       " 'Let us drink! Away with sadness!\\n',\n",
       " 'Wine will fill our hearts with cheer!']"
      ]
     },
     "execution_count": 31,
     "metadata": {},
     "output_type": "execute_result"
    }
   ],
   "source": [
    "f = open('bicycles.txt')\n",
    "f.readlines()\n",
    "# this returns an list from the text lines"
   ]
  },
  {
   "cell_type": "code",
   "execution_count": 32,
   "metadata": {},
   "outputs": [],
   "source": [
    "f.close()"
   ]
  },
  {
   "cell_type": "code",
   "execution_count": 33,
   "metadata": {
    "scrolled": true
   },
   "outputs": [
    {
     "data": {
      "text/plain": [
       "['Sable clouds by tempest driven,\\n',\n",
       " 'Snowflakes whirling in the gales,\\n',\n",
       " 'Hark--it sounds like grim wolves howling,\\n',\n",
       " 'Hark--now like a child it wails!\\n',\n",
       " 'Creeping through the rustling straw thatch,\\n',\n",
       " 'Rattling on the mortared walls,\\n',\n",
       " 'Like some weary wanderer knocking--\\n',\n",
       " 'On the lowly pane it falls.\\n',\n",
       " 'Fearsome darkness fills the kitchen,\\n',\n",
       " 'Drear and lonely our retreat,\\n',\n",
       " 'Speak a word and break the silence,\\n',\n",
       " 'Dearest little Mother, sweet!\\n',\n",
       " 'Has the moaning of the tempest\\n',\n",
       " 'Closed thine eyelids wearily?\\n',\n",
       " \"Has the spinning wheel's soft whirring\\n\",\n",
       " 'Hummed a cradle song to thee?\\n',\n",
       " 'Sweetheart of my youthful Springtime,\\n',\n",
       " 'Thou true-souled companion dear--\\n',\n",
       " 'Let us drink! Away with sadness!\\n',\n",
       " 'Wine will fill our hearts with cheer.\\n',\n",
       " 'Sing the song how free and careless\\n',\n",
       " 'Birds live in a distant land--\\n',\n",
       " 'Sing the song of maids at morning\\n',\n",
       " \"Meeting by the brook's clear strand!\\n\",\n",
       " 'Sable clouds by tempest driven,\\n',\n",
       " 'Snowflakes whirling in the gales,\\n',\n",
       " 'Hark--it sounds like grim wolves howling,\\n',\n",
       " 'Hark--now like a child it wails!\\n',\n",
       " 'Sweetheart of my youthful Springtime,\\n',\n",
       " 'Thou true-souled companion dear,\\n',\n",
       " 'Let us drink! Away with sadness!\\n',\n",
       " 'Wine will fill our hearts with cheer!']"
      ]
     },
     "execution_count": 33,
     "metadata": {},
     "output_type": "execute_result"
    }
   ],
   "source": [
    "f = open('bicycles.txt')\n",
    "list(f)"
   ]
  },
  {
   "cell_type": "code",
   "execution_count": 34,
   "metadata": {},
   "outputs": [],
   "source": [
    "f.close()"
   ]
  },
  {
   "cell_type": "markdown",
   "metadata": {},
   "source": [
    "## Itirating over each lines of the list"
   ]
  },
  {
   "cell_type": "code",
   "execution_count": 36,
   "metadata": {
    "scrolled": true
   },
   "outputs": [
    {
     "name": "stdout",
     "output_type": "stream",
     "text": [
      "Sable clouds by tempest driven,\n",
      "Snowflakes whirling in the gales,\n",
      "Hark--it sounds like grim wolves howling,\n",
      "Hark--now like a child it wails!\n",
      "Creeping through the rustling straw thatch,\n",
      "Rattling on the mortared walls,\n",
      "Like some weary wanderer knocking--\n",
      "On the lowly pane it falls.\n",
      "Fearsome darkness fills the kitchen,\n",
      "Drear and lonely our retreat,\n",
      "Speak a word and break the silence,\n",
      "Dearest little Mother, sweet!\n",
      "Has the moaning of the tempest\n",
      "Closed thine eyelids wearily?\n",
      "Has the spinning wheel's soft whirring\n",
      "Hummed a cradle song to thee?\n",
      "Sweetheart of my youthful Springtime,\n",
      "Thou true-souled companion dear--\n",
      "Let us drink! Away with sadness!\n",
      "Wine will fill our hearts with cheer.\n",
      "Sing the song how free and careless\n",
      "Birds live in a distant land--\n",
      "Sing the song of maids at morning\n",
      "Meeting by the brook's clear strand!\n",
      "Sable clouds by tempest driven,\n",
      "Snowflakes whirling in the gales,\n",
      "Hark--it sounds like grim wolves howling,\n",
      "Hark--now like a child it wails!\n",
      "Sweetheart of my youthful Springtime,\n",
      "Thou true-souled companion dear,\n",
      "Let us drink! Away with sadness!\n",
      "Wine will fill our hearts with cheer!"
     ]
    }
   ],
   "source": [
    "with open('bicycles.txt', 'r') as reader:\n",
    "    line = reader.readline()\n",
    "    while line !='':\n",
    "        print(line, end='')\n",
    "        line = reader.readline()"
   ]
  },
  {
   "cell_type": "code",
   "execution_count": 39,
   "metadata": {
    "scrolled": true
   },
   "outputs": [
    {
     "name": "stdout",
     "output_type": "stream",
     "text": [
      "Sable clouds by tempest driven,\n",
      "<->Snowflakes whirling in the gales,\n",
      "<->Hark--it sounds like grim wolves howling,\n",
      "<->Hark--now like a child it wails!\n",
      "<->Creeping through the rustling straw thatch,\n",
      "<->Rattling on the mortared walls,\n",
      "<->Like some weary wanderer knocking--\n",
      "<->On the lowly pane it falls.\n",
      "<->Fearsome darkness fills the kitchen,\n",
      "<->Drear and lonely our retreat,\n",
      "<->Speak a word and break the silence,\n",
      "<->Dearest little Mother, sweet!\n",
      "<->Has the moaning of the tempest\n",
      "<->Closed thine eyelids wearily?\n",
      "<->Has the spinning wheel's soft whirring\n",
      "<->Hummed a cradle song to thee?\n",
      "<->Sweetheart of my youthful Springtime,\n",
      "<->Thou true-souled companion dear--\n",
      "<->Let us drink! Away with sadness!\n",
      "<->Wine will fill our hearts with cheer.\n",
      "<->Sing the song how free and careless\n",
      "<->Birds live in a distant land--\n",
      "<->Sing the song of maids at morning\n",
      "<->Meeting by the brook's clear strand!\n",
      "<->Sable clouds by tempest driven,\n",
      "<->Snowflakes whirling in the gales,\n",
      "<->Hark--it sounds like grim wolves howling,\n",
      "<->Hark--now like a child it wails!\n",
      "<->Sweetheart of my youthful Springtime,\n",
      "<->Thou true-souled companion dear,\n",
      "<->Let us drink! Away with sadness!\n",
      "<->Wine will fill our hearts with cheer!<->"
     ]
    }
   ],
   "source": [
    "with open('bicycles.txt', 'r') as reader:\n",
    "    for line in reader.readlines():\n",
    "        print(line, end='<->')"
   ]
  },
  {
   "cell_type": "code",
   "execution_count": 42,
   "metadata": {
    "scrolled": true
   },
   "outputs": [
    {
     "name": "stdout",
     "output_type": "stream",
     "text": [
      "Sable clouds by tempest driven,\n",
      "~Snowflakes whirling in the gales,\n",
      "~Hark--it sounds like grim wolves howling,\n",
      "~Hark--now like a child it wails!\n",
      "~Creeping through the rustling straw thatch,\n",
      "~Rattling on the mortared walls,\n",
      "~Like some weary wanderer knocking--\n",
      "~On the lowly pane it falls.\n",
      "~Fearsome darkness fills the kitchen,\n",
      "~Drear and lonely our retreat,\n",
      "~Speak a word and break the silence,\n",
      "~Dearest little Mother, sweet!\n",
      "~Has the moaning of the tempest\n",
      "~Closed thine eyelids wearily?\n",
      "~Has the spinning wheel's soft whirring\n",
      "~Hummed a cradle song to thee?\n",
      "~Sweetheart of my youthful Springtime,\n",
      "~Thou true-souled companion dear--\n",
      "~Let us drink! Away with sadness!\n",
      "~Wine will fill our hearts with cheer.\n",
      "~Sing the song how free and careless\n",
      "~Birds live in a distant land--\n",
      "~Sing the song of maids at morning\n",
      "~Meeting by the brook's clear strand!\n",
      "~Sable clouds by tempest driven,\n",
      "~Snowflakes whirling in the gales,\n",
      "~Hark--it sounds like grim wolves howling,\n",
      "~Hark--now like a child it wails!\n",
      "~Sweetheart of my youthful Springtime,\n",
      "~Thou true-souled companion dear,\n",
      "~Let us drink! Away with sadness!\n",
      "~Wine will fill our hearts with cheer!~"
     ]
    }
   ],
   "source": [
    "with open('bicycles.txt', 'r') as reader:\n",
    "    for line in reader:\n",
    "        print(line, end='~')"
   ]
  },
  {
   "cell_type": "markdown",
   "metadata": {},
   "source": [
    "## Write in a file"
   ]
  },
  {
   "cell_type": "markdown",
   "metadata": {},
   "source": [
    "> .write(string)\n",
    "    \n",
    "> .writelines(seq)"
   ]
  },
  {
   "cell_type": "markdown",
   "metadata": {},
   "source": [
    "# Working with bytes"
   ]
  },
  {
   "cell_type": "code",
   "execution_count": 50,
   "metadata": {},
   "outputs": [
    {
     "name": "stdout",
     "output_type": "stream",
     "text": [
      "b'\\xff'\n",
      "b'\\xd8\\xff'\n",
      "b'\\xe0\\x00\\x10'\n",
      "b'J'\n",
      "b'FI'\n"
     ]
    }
   ],
   "source": [
    "with open('AlexandePushkin.png', 'rb') as byte_reader:\n",
    "    print(byte_reader.read(1))\n",
    "    print(byte_reader.read(2))\n",
    "    print(byte_reader.read(3))\n",
    "    print(byte_reader.read(1))\n",
    "    print(byte_reader.read(2))"
   ]
  },
  {
   "cell_type": "code",
   "execution_count": 51,
   "metadata": {},
   "outputs": [
    {
     "name": "stderr",
     "output_type": "stream",
     "text": [
      "usage: ipykernel_launcher.py [-h] [--dest_file DEST_FILE] source_file\n",
      "ipykernel_launcher.py: error: unrecognized arguments: -f\n"
     ]
    },
    {
     "ename": "SystemExit",
     "evalue": "2",
     "output_type": "error",
     "traceback": [
      "An exception has occurred, use %tb to see the full traceback.\n",
      "\u001b[1;31mSystemExit\u001b[0m\u001b[1;31m:\u001b[0m 2\n"
     ]
    },
    {
     "name": "stderr",
     "output_type": "stream",
     "text": [
      "c:\\Users\\Дональд\\AppData\\Local\\Programs\\Python\\Python39\\lib\\site-packages\\IPython\\core\\interactiveshell.py:3465: UserWarning: To exit: use 'exit', 'quit', or Ctrl-D.\n",
      "  warn(\"To exit: use 'exit', 'quit', or Ctrl-D.\", stacklevel=1)\n"
     ]
    }
   ],
   "source": [
    "\"\"\"\n",
    "A simple script and library to convert files or strings from dos like\n",
    "line endings with Unix like line endings.\n",
    "\"\"\"\n",
    "\n",
    "import argparse\n",
    "import os\n",
    "\n",
    "\n",
    "def str2unix(input_str: str) -> str:\n",
    "    r\"\"\"\n",
    "    Converts the string from \\r\\n line endings to \\n\n",
    "\n",
    "    Parameters\n",
    "    ----------\n",
    "    input_str\n",
    "        The string whose line endings will be converted\n",
    "\n",
    "    Returns\n",
    "    -------\n",
    "        The converted string\n",
    "    \"\"\"\n",
    "    r_str = input_str.replace('\\r\\n', '\\n')\n",
    "    return r_str\n",
    "\n",
    "\n",
    "def dos2unix(source_file: str, dest_file: str):\n",
    "    \"\"\"\n",
    "    Converts a file that contains Dos like line endings into Unix like\n",
    "\n",
    "    Parameters\n",
    "    ----------\n",
    "    source_file\n",
    "        The path to the source file to be converted\n",
    "    dest_file\n",
    "        The path to the converted file for output\n",
    "    \"\"\"\n",
    "    # NOTE: Could add file existence checking and file overwriting\n",
    "    # protection\n",
    "    with open(source_file, 'r') as reader:\n",
    "        dos_content = reader.read()\n",
    "\n",
    "    unix_content = str2unix(dos_content)\n",
    "\n",
    "    with open(dest_file, 'w') as writer:\n",
    "        writer.write(unix_content)\n",
    "\n",
    "\n",
    "if __name__ == \"__main__\":\n",
    "    # Create our Argument parser and set its description\n",
    "    parser = argparse.ArgumentParser(\n",
    "        description=\"Script that converts a DOS like file to an Unix like file\",\n",
    "    )\n",
    "\n",
    "    # Add the arguments:\n",
    "    #   - source_file: the source file we want to convert\n",
    "    #   - dest_file: the destination where the output should go\n",
    "\n",
    "    # Note: the use of the argument type of argparse.FileType could\n",
    "    # streamline some things\n",
    "    parser.add_argument(\n",
    "        'source_file',\n",
    "        help='The location of the source '\n",
    "    )\n",
    "\n",
    "    parser.add_argument(\n",
    "        '--dest_file',\n",
    "        help='Location of dest file (default: source_file appended with `_unix`',\n",
    "        default=None\n",
    "    )\n",
    "\n",
    "    # Parse the args (argparse automatically grabs the values from\n",
    "    # sys.argv)\n",
    "    args = parser.parse_args()\n",
    "\n",
    "    s_file = args.source_file\n",
    "    d_file = args.dest_file\n",
    "\n",
    "    # If the destination file wasn't passed, then assume we want to\n",
    "    # create a new file based on the old one\n",
    "    if d_file is None:\n",
    "        file_path, file_extension = os.path.splitext(s_file)\n",
    "        d_file = f'{file_path}_unix{file_extension}'\n",
    "\n",
    "    dos2unix(s_file, d_file)\n"
   ]
  },
  {
   "cell_type": "markdown",
   "metadata": {},
   "source": [
    "# Appending to a file"
   ]
  },
  {
   "cell_type": "code",
   "execution_count": 52,
   "metadata": {},
   "outputs": [],
   "source": [
    "with open('bicycles.txt', 'a') as a_writer:\n",
    "    a_writer.write('\\nBy Alexander Pushkin')"
   ]
  },
  {
   "cell_type": "code",
   "execution_count": 53,
   "metadata": {
    "scrolled": true
   },
   "outputs": [
    {
     "name": "stdout",
     "output_type": "stream",
     "text": [
      "Sable clouds by tempest driven,\n",
      "Snowflakes whirling in the gales,\n",
      "Hark--it sounds like grim wolves howling,\n",
      "Hark--now like a child it wails!\n",
      "Creeping through the rustling straw thatch,\n",
      "Rattling on the mortared walls,\n",
      "Like some weary wanderer knocking--\n",
      "On the lowly pane it falls.\n",
      "Fearsome darkness fills the kitchen,\n",
      "Drear and lonely our retreat,\n",
      "Speak a word and break the silence,\n",
      "Dearest little Mother, sweet!\n",
      "Has the moaning of the tempest\n",
      "Closed thine eyelids wearily?\n",
      "Has the spinning wheel's soft whirring\n",
      "Hummed a cradle song to thee?\n",
      "Sweetheart of my youthful Springtime,\n",
      "Thou true-souled companion dear--\n",
      "Let us drink! Away with sadness!\n",
      "Wine will fill our hearts with cheer.\n",
      "Sing the song how free and careless\n",
      "Birds live in a distant land--\n",
      "Sing the song of maids at morning\n",
      "Meeting by the brook's clear strand!\n",
      "Sable clouds by tempest driven,\n",
      "Snowflakes whirling in the gales,\n",
      "Hark--it sounds like grim wolves howling,\n",
      "Hark--now like a child it wails!\n",
      "Sweetheart of my youthful Springtime,\n",
      "Thou true-souled companion dear,\n",
      "Let us drink! Away with sadness!\n",
      "Wine will fill our hearts with cheer!\n",
      "By Alexander Pushkin\n"
     ]
    }
   ],
   "source": [
    "with open('bicycles.txt', 'r') as reader:\n",
    "    print(reader.read())"
   ]
  },
  {
   "cell_type": "code",
   "execution_count": 54,
   "metadata": {},
   "outputs": [],
   "source": [
    "d_path = 'dog_breeds.txt'\n",
    "d_r_path = 'dog_breeds_reversed.txt'\n",
    "with open(d_path, 'r') as reader, open(d_r_path, 'w') as writer:\n",
    "    dog_breeds = reader.readlines()\n",
    "    writer.writelines(reversed(dog_breeds))"
   ]
  },
  {
   "cell_type": "code",
   "execution_count": null,
   "metadata": {},
   "outputs": [],
   "source": []
  }
 ],
 "metadata": {
  "kernelspec": {
   "display_name": "Python 3 (ipykernel)",
   "language": "python",
   "name": "python3"
  },
  "language_info": {
   "codemirror_mode": {
    "name": "ipython",
    "version": 3
   },
   "file_extension": ".py",
   "mimetype": "text/x-python",
   "name": "python",
   "nbconvert_exporter": "python",
   "pygments_lexer": "ipython3",
   "version": "3.9.7"
  }
 },
 "nbformat": 4,
 "nbformat_minor": 1
}
